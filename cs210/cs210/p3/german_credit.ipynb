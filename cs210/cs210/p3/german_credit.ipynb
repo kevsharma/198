{
 "cells": [
  {
   "cell_type": "code",
   "execution_count": 1,
   "id": "9d1035b0",
   "metadata": {},
   "outputs": [],
   "source": [
    "import pandas as pd\n",
    "import numpy as np\n",
    "from pandas import DataFrame\n",
    "import matplotlib.pyplot as plt\n",
    "\n",
    "inputfile=\"GermanCredit.csv\"\n",
    "df = pd.read_csv(inputfile)\n"
   ]
  },
  {
   "cell_type": "markdown",
   "id": "37dbc82e",
   "metadata": {},
   "source": [
    "**Preprocessing**<br>\n",
    "1. Drop the 3 columns that contribute the least to the dataset. These would be the columns with the highest number of non-zero 'none' values. Break ties by going left to right in columns. (Your code should be generalizable to drop n columns, but for the rest of the analysis, you can call your code for n=3.)"
   ]
  },
  {
   "cell_type": "code",
   "execution_count": 2,
   "id": "ec678187",
   "metadata": {},
   "outputs": [
    {
     "data": {
      "text/html": [
       "<div>\n",
       "<style scoped>\n",
       "    .dataframe tbody tr th:only-of-type {\n",
       "        vertical-align: middle;\n",
       "    }\n",
       "\n",
       "    .dataframe tbody tr th {\n",
       "        vertical-align: top;\n",
       "    }\n",
       "\n",
       "    .dataframe thead th {\n",
       "        text-align: right;\n",
       "    }\n",
       "</style>\n",
       "<table border=\"1\" class=\"dataframe\">\n",
       "  <thead>\n",
       "    <tr style=\"text-align: right;\">\n",
       "      <th></th>\n",
       "      <th>checking_status</th>\n",
       "      <th>duration</th>\n",
       "      <th>credit_history</th>\n",
       "      <th>purpose</th>\n",
       "      <th>credit_amount</th>\n",
       "      <th>savings_status</th>\n",
       "      <th>employment</th>\n",
       "      <th>installment_commitment</th>\n",
       "      <th>personal_status</th>\n",
       "      <th>residence_since</th>\n",
       "      <th>property_magnitude</th>\n",
       "      <th>age</th>\n",
       "      <th>housing</th>\n",
       "      <th>existing_credits</th>\n",
       "      <th>job</th>\n",
       "      <th>num_dependents</th>\n",
       "      <th>foreign_worker</th>\n",
       "      <th>class</th>\n",
       "    </tr>\n",
       "  </thead>\n",
       "  <tbody>\n",
       "    <tr>\n",
       "      <th>0</th>\n",
       "      <td>'&lt;0'</td>\n",
       "      <td>6</td>\n",
       "      <td>'critical/other existing credit'</td>\n",
       "      <td>radio/tv</td>\n",
       "      <td>1169</td>\n",
       "      <td>'no known savings'</td>\n",
       "      <td>'&gt;=7'</td>\n",
       "      <td>4</td>\n",
       "      <td>'male single'</td>\n",
       "      <td>4</td>\n",
       "      <td>'real estate'</td>\n",
       "      <td>67</td>\n",
       "      <td>own</td>\n",
       "      <td>2</td>\n",
       "      <td>skilled</td>\n",
       "      <td>1</td>\n",
       "      <td>yes</td>\n",
       "      <td>good</td>\n",
       "    </tr>\n",
       "    <tr>\n",
       "      <th>1</th>\n",
       "      <td>'0&lt;=X&lt;200'</td>\n",
       "      <td>48</td>\n",
       "      <td>'existing paid'</td>\n",
       "      <td>radio/tv</td>\n",
       "      <td>5951</td>\n",
       "      <td>'&lt;100'</td>\n",
       "      <td>'1&lt;=X&lt;4'</td>\n",
       "      <td>2</td>\n",
       "      <td>'female div/dep/mar'</td>\n",
       "      <td>2</td>\n",
       "      <td>'real estate'</td>\n",
       "      <td>22</td>\n",
       "      <td>own</td>\n",
       "      <td>1</td>\n",
       "      <td>skilled</td>\n",
       "      <td>1</td>\n",
       "      <td>yes</td>\n",
       "      <td>bad</td>\n",
       "    </tr>\n",
       "    <tr>\n",
       "      <th>2</th>\n",
       "      <td>'no checking'</td>\n",
       "      <td>12</td>\n",
       "      <td>'critical/other existing credit'</td>\n",
       "      <td>education</td>\n",
       "      <td>2096</td>\n",
       "      <td>'&lt;100'</td>\n",
       "      <td>'4&lt;=X&lt;7'</td>\n",
       "      <td>2</td>\n",
       "      <td>'male single'</td>\n",
       "      <td>3</td>\n",
       "      <td>'real estate'</td>\n",
       "      <td>49</td>\n",
       "      <td>own</td>\n",
       "      <td>1</td>\n",
       "      <td>'unskilled resident'</td>\n",
       "      <td>2</td>\n",
       "      <td>yes</td>\n",
       "      <td>good</td>\n",
       "    </tr>\n",
       "    <tr>\n",
       "      <th>3</th>\n",
       "      <td>'&lt;0'</td>\n",
       "      <td>42</td>\n",
       "      <td>'existing paid'</td>\n",
       "      <td>furniture/equipment</td>\n",
       "      <td>7882</td>\n",
       "      <td>'&lt;100'</td>\n",
       "      <td>'4&lt;=X&lt;7'</td>\n",
       "      <td>2</td>\n",
       "      <td>'male single'</td>\n",
       "      <td>4</td>\n",
       "      <td>'life insurance'</td>\n",
       "      <td>45</td>\n",
       "      <td>'for free'</td>\n",
       "      <td>1</td>\n",
       "      <td>skilled</td>\n",
       "      <td>2</td>\n",
       "      <td>yes</td>\n",
       "      <td>good</td>\n",
       "    </tr>\n",
       "    <tr>\n",
       "      <th>4</th>\n",
       "      <td>'&lt;0'</td>\n",
       "      <td>24</td>\n",
       "      <td>'delayed previously'</td>\n",
       "      <td>'new car'</td>\n",
       "      <td>4870</td>\n",
       "      <td>'&lt;100'</td>\n",
       "      <td>'1&lt;=X&lt;4'</td>\n",
       "      <td>3</td>\n",
       "      <td>'male single'</td>\n",
       "      <td>4</td>\n",
       "      <td>'no known property'</td>\n",
       "      <td>53</td>\n",
       "      <td>'for free'</td>\n",
       "      <td>2</td>\n",
       "      <td>skilled</td>\n",
       "      <td>2</td>\n",
       "      <td>yes</td>\n",
       "      <td>bad</td>\n",
       "    </tr>\n",
       "    <tr>\n",
       "      <th>...</th>\n",
       "      <td>...</td>\n",
       "      <td>...</td>\n",
       "      <td>...</td>\n",
       "      <td>...</td>\n",
       "      <td>...</td>\n",
       "      <td>...</td>\n",
       "      <td>...</td>\n",
       "      <td>...</td>\n",
       "      <td>...</td>\n",
       "      <td>...</td>\n",
       "      <td>...</td>\n",
       "      <td>...</td>\n",
       "      <td>...</td>\n",
       "      <td>...</td>\n",
       "      <td>...</td>\n",
       "      <td>...</td>\n",
       "      <td>...</td>\n",
       "      <td>...</td>\n",
       "    </tr>\n",
       "    <tr>\n",
       "      <th>995</th>\n",
       "      <td>'no checking'</td>\n",
       "      <td>12</td>\n",
       "      <td>'existing paid'</td>\n",
       "      <td>furniture/equipment</td>\n",
       "      <td>1736</td>\n",
       "      <td>'&lt;100'</td>\n",
       "      <td>'4&lt;=X&lt;7'</td>\n",
       "      <td>3</td>\n",
       "      <td>'female div/dep/mar'</td>\n",
       "      <td>4</td>\n",
       "      <td>'real estate'</td>\n",
       "      <td>31</td>\n",
       "      <td>own</td>\n",
       "      <td>1</td>\n",
       "      <td>'unskilled resident'</td>\n",
       "      <td>1</td>\n",
       "      <td>yes</td>\n",
       "      <td>good</td>\n",
       "    </tr>\n",
       "    <tr>\n",
       "      <th>996</th>\n",
       "      <td>'&lt;0'</td>\n",
       "      <td>30</td>\n",
       "      <td>'existing paid'</td>\n",
       "      <td>'used car'</td>\n",
       "      <td>3857</td>\n",
       "      <td>'&lt;100'</td>\n",
       "      <td>'1&lt;=X&lt;4'</td>\n",
       "      <td>4</td>\n",
       "      <td>'male div/sep'</td>\n",
       "      <td>4</td>\n",
       "      <td>'life insurance'</td>\n",
       "      <td>40</td>\n",
       "      <td>own</td>\n",
       "      <td>1</td>\n",
       "      <td>'high qualif/self emp/mgmt'</td>\n",
       "      <td>1</td>\n",
       "      <td>yes</td>\n",
       "      <td>good</td>\n",
       "    </tr>\n",
       "    <tr>\n",
       "      <th>997</th>\n",
       "      <td>'no checking'</td>\n",
       "      <td>12</td>\n",
       "      <td>'existing paid'</td>\n",
       "      <td>radio/tv</td>\n",
       "      <td>804</td>\n",
       "      <td>'&lt;100'</td>\n",
       "      <td>'&gt;=7'</td>\n",
       "      <td>4</td>\n",
       "      <td>'male single'</td>\n",
       "      <td>4</td>\n",
       "      <td>car</td>\n",
       "      <td>38</td>\n",
       "      <td>own</td>\n",
       "      <td>1</td>\n",
       "      <td>skilled</td>\n",
       "      <td>1</td>\n",
       "      <td>yes</td>\n",
       "      <td>good</td>\n",
       "    </tr>\n",
       "    <tr>\n",
       "      <th>998</th>\n",
       "      <td>'&lt;0'</td>\n",
       "      <td>45</td>\n",
       "      <td>'existing paid'</td>\n",
       "      <td>radio/tv</td>\n",
       "      <td>1845</td>\n",
       "      <td>'&lt;100'</td>\n",
       "      <td>'1&lt;=X&lt;4'</td>\n",
       "      <td>4</td>\n",
       "      <td>'male single'</td>\n",
       "      <td>4</td>\n",
       "      <td>'no known property'</td>\n",
       "      <td>23</td>\n",
       "      <td>'for free'</td>\n",
       "      <td>1</td>\n",
       "      <td>skilled</td>\n",
       "      <td>1</td>\n",
       "      <td>yes</td>\n",
       "      <td>bad</td>\n",
       "    </tr>\n",
       "    <tr>\n",
       "      <th>999</th>\n",
       "      <td>'0&lt;=X&lt;200'</td>\n",
       "      <td>45</td>\n",
       "      <td>'critical/other existing credit'</td>\n",
       "      <td>'used car'</td>\n",
       "      <td>4576</td>\n",
       "      <td>'100&lt;=X&lt;500'</td>\n",
       "      <td>unemployed</td>\n",
       "      <td>3</td>\n",
       "      <td>'male single'</td>\n",
       "      <td>4</td>\n",
       "      <td>car</td>\n",
       "      <td>27</td>\n",
       "      <td>own</td>\n",
       "      <td>1</td>\n",
       "      <td>skilled</td>\n",
       "      <td>1</td>\n",
       "      <td>yes</td>\n",
       "      <td>good</td>\n",
       "    </tr>\n",
       "  </tbody>\n",
       "</table>\n",
       "<p>1000 rows × 18 columns</p>\n",
       "</div>"
      ],
      "text/plain": [
       "    checking_status  duration                    credit_history  \\\n",
       "0              '<0'         6  'critical/other existing credit'   \n",
       "1        '0<=X<200'        48                   'existing paid'   \n",
       "2     'no checking'        12  'critical/other existing credit'   \n",
       "3              '<0'        42                   'existing paid'   \n",
       "4              '<0'        24              'delayed previously'   \n",
       "..              ...       ...                               ...   \n",
       "995   'no checking'        12                   'existing paid'   \n",
       "996            '<0'        30                   'existing paid'   \n",
       "997   'no checking'        12                   'existing paid'   \n",
       "998            '<0'        45                   'existing paid'   \n",
       "999      '0<=X<200'        45  'critical/other existing credit'   \n",
       "\n",
       "                 purpose  credit_amount      savings_status  employment  \\\n",
       "0               radio/tv           1169  'no known savings'       '>=7'   \n",
       "1               radio/tv           5951              '<100'    '1<=X<4'   \n",
       "2              education           2096              '<100'    '4<=X<7'   \n",
       "3    furniture/equipment           7882              '<100'    '4<=X<7'   \n",
       "4              'new car'           4870              '<100'    '1<=X<4'   \n",
       "..                   ...            ...                 ...         ...   \n",
       "995  furniture/equipment           1736              '<100'    '4<=X<7'   \n",
       "996           'used car'           3857              '<100'    '1<=X<4'   \n",
       "997             radio/tv            804              '<100'       '>=7'   \n",
       "998             radio/tv           1845              '<100'    '1<=X<4'   \n",
       "999           'used car'           4576        '100<=X<500'  unemployed   \n",
       "\n",
       "     installment_commitment       personal_status  residence_since  \\\n",
       "0                         4         'male single'                4   \n",
       "1                         2  'female div/dep/mar'                2   \n",
       "2                         2         'male single'                3   \n",
       "3                         2         'male single'                4   \n",
       "4                         3         'male single'                4   \n",
       "..                      ...                   ...              ...   \n",
       "995                       3  'female div/dep/mar'                4   \n",
       "996                       4        'male div/sep'                4   \n",
       "997                       4         'male single'                4   \n",
       "998                       4         'male single'                4   \n",
       "999                       3         'male single'                4   \n",
       "\n",
       "      property_magnitude  age     housing  existing_credits  \\\n",
       "0          'real estate'   67         own                 2   \n",
       "1          'real estate'   22         own                 1   \n",
       "2          'real estate'   49         own                 1   \n",
       "3       'life insurance'   45  'for free'                 1   \n",
       "4    'no known property'   53  'for free'                 2   \n",
       "..                   ...  ...         ...               ...   \n",
       "995        'real estate'   31         own                 1   \n",
       "996     'life insurance'   40         own                 1   \n",
       "997                  car   38         own                 1   \n",
       "998  'no known property'   23  'for free'                 1   \n",
       "999                  car   27         own                 1   \n",
       "\n",
       "                             job  num_dependents foreign_worker class  \n",
       "0                        skilled               1            yes  good  \n",
       "1                        skilled               1            yes   bad  \n",
       "2           'unskilled resident'               2            yes  good  \n",
       "3                        skilled               2            yes  good  \n",
       "4                        skilled               2            yes   bad  \n",
       "..                           ...             ...            ...   ...  \n",
       "995         'unskilled resident'               1            yes  good  \n",
       "996  'high qualif/self emp/mgmt'               1            yes  good  \n",
       "997                      skilled               1            yes  good  \n",
       "998                      skilled               1            yes   bad  \n",
       "999                      skilled               1            yes  good  \n",
       "\n",
       "[1000 rows x 18 columns]"
      ]
     },
     "execution_count": 2,
     "metadata": {},
     "output_type": "execute_result"
    }
   ],
   "source": [
    "def columndrop(n):\n",
    "    highest=(df=='none').sum().nlargest(n)\n",
    "    #drop n columns that contribute the least to the dataset\n",
    "    df.drop(highest.index[0:n],axis=1,inplace=True)\n",
    "    return df\n",
    "\n",
    "columndrop(3)\n"
   ]
  },
  {
   "cell_type": "markdown",
   "id": "72d07901",
   "metadata": {},
   "source": [
    "2.Certain values in some of the columns contain unnecessary apostrophes (‘). Remove the apostrophes."
   ]
  },
  {
   "cell_type": "code",
   "execution_count": 3,
   "id": "88675988",
   "metadata": {},
   "outputs": [],
   "source": [
    "df = df.replace(\"'\", '', regex=True)"
   ]
  },
  {
   "cell_type": "markdown",
   "id": "2b3b11a4",
   "metadata": {},
   "source": [
    "3.The checking_status column has values in 4 categories: 'no checking', '<0', '0<=X<200', and '>=200'. Change these to 'No Checking', 'Low', 'Medium', and 'High' respectively."
   ]
  },
  {
   "cell_type": "code",
   "execution_count": 4,
   "id": "cbf63dd9",
   "metadata": {},
   "outputs": [],
   "source": [
    "df['checking_status'] = df['checking_status'].replace('no checking', 'No Checking')\n",
    "df['checking_status'] = df['checking_status'].replace('<0', 'Low')\n",
    "df['checking_status'] = df['checking_status'].replace('0<=X<200', 'Medium')\n",
    "df['checking_status'] = df['checking_status'].replace('>=200', 'High')"
   ]
  },
  {
   "cell_type": "markdown",
   "id": "4d2ac72d",
   "metadata": {},
   "source": [
    "4. The savings_status column has values in 4 categories: 'no known savings', '<100', '100<=X<500', '500<=X<1000', and '>=1000'. Change these to 'No Savings', 'Low', 'Medium', 'High', and 'High' respectively. (Yes, the last two are both 'High')."
   ]
  },
  {
   "cell_type": "code",
   "execution_count": 5,
   "id": "cfb255a5",
   "metadata": {},
   "outputs": [],
   "source": [
    "df['savings_status'] = df['savings_status'].replace('no known savings', 'No Savings')\n",
    "df['savings_status'] = df['savings_status'].replace('<100', 'Low')\n",
    "df['savings_status'] = df['savings_status'].replace('100<=X<500', 'Medium')\n",
    "df['savings_status'] = df['savings_status'].replace('500<=X<1000', 'High')\n",
    "df['savings_status'] = df['savings_status'].replace('>=1000', 'High')"
   ]
  },
  {
   "cell_type": "markdown",
   "id": "41bddee2",
   "metadata": {},
   "source": [
    "5.Change class column values from 'good' to '1' and 'bad' to '0'"
   ]
  },
  {
   "cell_type": "code",
   "execution_count": 6,
   "id": "1474ac13",
   "metadata": {
    "scrolled": true
   },
   "outputs": [],
   "source": [
    "df['class'] = df['class'].replace('good', '1')\n",
    "df['class'] = df['class'].replace('bad', '0')"
   ]
  },
  {
   "cell_type": "markdown",
   "id": "9729c9ca",
   "metadata": {},
   "source": [
    "6.Change the employment column value 'unemployed' to 'Unemployed', and for the others, change to 'Amateur', 'Professional', 'Experienced' and 'Expert', depending on year range."
   ]
  },
  {
   "cell_type": "code",
   "execution_count": 7,
   "id": "686cfc73",
   "metadata": {},
   "outputs": [],
   "source": [
    "df['employment'] = df['employment'].replace('unemployed', 'Unemployed')\n",
    "df['employment'] = df['employment'].replace('<1', 'Amateur')\n",
    "df['employment'] = df['employment'].replace('1<=X<4', 'Professional')\n",
    "df['employment'] = df['employment'].replace('4<=X<7', 'Experienced')\n",
    "df['employment'] = df['employment'].replace('>=7', 'Expert')"
   ]
  },
  {
   "cell_type": "markdown",
   "id": "03deed41",
   "metadata": {},
   "source": [
    "**Analysis**<br>\n",
    "1.\n",
    "a. Get the count of each category of foreign workers (yes and no) for each class of credit (good and bad)."
   ]
  },
  {
   "cell_type": "code",
   "execution_count": 8,
   "id": "f8c04c37",
   "metadata": {},
   "outputs": [
    {
     "data": {
      "text/html": [
       "<div>\n",
       "<style scoped>\n",
       "    .dataframe tbody tr th:only-of-type {\n",
       "        vertical-align: middle;\n",
       "    }\n",
       "\n",
       "    .dataframe tbody tr th {\n",
       "        vertical-align: top;\n",
       "    }\n",
       "\n",
       "    .dataframe thead th {\n",
       "        text-align: right;\n",
       "    }\n",
       "</style>\n",
       "<table border=\"1\" class=\"dataframe\">\n",
       "  <thead>\n",
       "    <tr style=\"text-align: right;\">\n",
       "      <th>class</th>\n",
       "      <th>0</th>\n",
       "      <th>1</th>\n",
       "    </tr>\n",
       "    <tr>\n",
       "      <th>foreign_worker</th>\n",
       "      <th></th>\n",
       "      <th></th>\n",
       "    </tr>\n",
       "  </thead>\n",
       "  <tbody>\n",
       "    <tr>\n",
       "      <th>no</th>\n",
       "      <td>4</td>\n",
       "      <td>33</td>\n",
       "    </tr>\n",
       "    <tr>\n",
       "      <th>yes</th>\n",
       "      <td>296</td>\n",
       "      <td>667</td>\n",
       "    </tr>\n",
       "  </tbody>\n",
       "</table>\n",
       "</div>"
      ],
      "text/plain": [
       "class             0    1\n",
       "foreign_worker          \n",
       "no                4   33\n",
       "yes             296  667"
      ]
     },
     "execution_count": 8,
     "metadata": {},
     "output_type": "execute_result"
    }
   ],
   "source": [
    "pd.crosstab(df[\"foreign_worker\"] , df[\"class\"])"
   ]
  },
  {
   "cell_type": "markdown",
   "id": "19944bce",
   "metadata": {},
   "source": [
    "b. Similarly, get the count of each category of employment for each category of saving_status."
   ]
  },
  {
   "cell_type": "code",
   "execution_count": 9,
   "id": "9942f738",
   "metadata": {},
   "outputs": [
    {
     "data": {
      "text/html": [
       "<div>\n",
       "<style scoped>\n",
       "    .dataframe tbody tr th:only-of-type {\n",
       "        vertical-align: middle;\n",
       "    }\n",
       "\n",
       "    .dataframe tbody tr th {\n",
       "        vertical-align: top;\n",
       "    }\n",
       "\n",
       "    .dataframe thead th {\n",
       "        text-align: right;\n",
       "    }\n",
       "</style>\n",
       "<table border=\"1\" class=\"dataframe\">\n",
       "  <thead>\n",
       "    <tr style=\"text-align: right;\">\n",
       "      <th>savings_status</th>\n",
       "      <th>High</th>\n",
       "      <th>Low</th>\n",
       "      <th>Medium</th>\n",
       "      <th>No Savings</th>\n",
       "    </tr>\n",
       "    <tr>\n",
       "      <th>employment</th>\n",
       "      <th></th>\n",
       "      <th></th>\n",
       "      <th></th>\n",
       "      <th></th>\n",
       "    </tr>\n",
       "  </thead>\n",
       "  <tbody>\n",
       "    <tr>\n",
       "      <th>Amateur</th>\n",
       "      <td>12</td>\n",
       "      <td>120</td>\n",
       "      <td>17</td>\n",
       "      <td>23</td>\n",
       "    </tr>\n",
       "    <tr>\n",
       "      <th>Experienced</th>\n",
       "      <td>18</td>\n",
       "      <td>100</td>\n",
       "      <td>24</td>\n",
       "      <td>32</td>\n",
       "    </tr>\n",
       "    <tr>\n",
       "      <th>Expert</th>\n",
       "      <td>34</td>\n",
       "      <td>133</td>\n",
       "      <td>22</td>\n",
       "      <td>64</td>\n",
       "    </tr>\n",
       "    <tr>\n",
       "      <th>Professional</th>\n",
       "      <td>44</td>\n",
       "      <td>210</td>\n",
       "      <td>33</td>\n",
       "      <td>52</td>\n",
       "    </tr>\n",
       "    <tr>\n",
       "      <th>Unemployed</th>\n",
       "      <td>3</td>\n",
       "      <td>40</td>\n",
       "      <td>7</td>\n",
       "      <td>12</td>\n",
       "    </tr>\n",
       "  </tbody>\n",
       "</table>\n",
       "</div>"
      ],
      "text/plain": [
       "savings_status  High  Low  Medium  No Savings\n",
       "employment                                   \n",
       "Amateur           12  120      17          23\n",
       "Experienced       18  100      24          32\n",
       "Expert            34  133      22          64\n",
       "Professional      44  210      33          52\n",
       "Unemployed         3   40       7          12"
      ]
     },
     "execution_count": 9,
     "metadata": {},
     "output_type": "execute_result"
    }
   ],
   "source": [
    "pd.crosstab(df[\"employment\"] , df[\"savings_status\"])"
   ]
  },
  {
   "cell_type": "markdown",
   "id": "d97e883c",
   "metadata": {},
   "source": [
    "2.Find the average credit_amount of single males that have 4<=X<7 years of employment. You can leave the raw result as is, no need for rounding."
   ]
  },
  {
   "cell_type": "code",
   "execution_count": 10,
   "id": "7628ec52",
   "metadata": {},
   "outputs": [
    {
     "name": "stdout",
     "output_type": "stream",
     "text": [
      "Average credit_amount: 4142.592592592592\n"
     ]
    }
   ],
   "source": [
    "avgcredit=df.loc[(df[\"employment\"] ==\"Experienced\") & (df[\"personal_status\"]==\"male single\")][\"credit_amount\"].mean() \n",
    "print(f\"Average credit_amount: {avgcredit}\")"
   ]
  },
  {
   "cell_type": "markdown",
   "id": "5486a315",
   "metadata": {},
   "source": [
    "3.Find the average credit duration for each of the job types. You can leave the raw result as is, no need for rounding."
   ]
  },
  {
   "cell_type": "code",
   "execution_count": 11,
   "id": "fcfbed9f",
   "metadata": {},
   "outputs": [
    {
     "data": {
      "text/plain": [
       "job\n",
       "high qualif/self emp/mgmt    25.168919\n",
       "skilled                      21.411111\n",
       "unemp/unskilled non res      17.363636\n",
       "unskilled resident           16.535000\n",
       "Name: duration, dtype: float64"
      ]
     },
     "execution_count": 11,
     "metadata": {},
     "output_type": "execute_result"
    }
   ],
   "source": [
    "df.groupby(\"job\")[\"duration\"].mean()"
   ]
  },
  {
   "cell_type": "markdown",
   "id": "5dcccccb",
   "metadata": {},
   "source": [
    "4.For the purpose 'education', what is the most common checking_status and savings_status? "
   ]
  },
  {
   "cell_type": "code",
   "execution_count": 12,
   "id": "d59c2c3d",
   "metadata": {},
   "outputs": [
    {
     "name": "stdout",
     "output_type": "stream",
     "text": [
      "Most common checking status: No Checking\n",
      "Most common savings status: Low\n"
     ]
    }
   ],
   "source": [
    "checking=(df[(df[\"purpose\"] ==\"education\")])[\"checking_status\"].mode()\n",
    "savings=(df[(df[\"purpose\"] ==\"education\")])[\"savings_status\"].mode()\n",
    "print(f\"Most common checking status: {checking[0]}\\n\"f\"Most common savings status: {savings[0]}\")\n"
   ]
  },
  {
   "cell_type": "markdown",
   "id": "42b2759a",
   "metadata": {},
   "source": [
    "**Visualization**"
   ]
  },
  {
   "cell_type": "markdown",
   "id": "f0dcf467",
   "metadata": {},
   "source": [
    "1.Plot subplots of two histograms: one with savings_status on the x-axis and personal_status as different colors, and another with checking_status on the x-axis and personal_status as different colors."
   ]
  },
  {
   "cell_type": "code",
   "execution_count": 13,
   "id": "eacbf70d",
   "metadata": {},
   "outputs": [
    {
     "data": {
      "image/png": "[encoded data removed]",
      "text/plain": [
       "<Figure size 1080x1080 with 2 Axes>"
      ]
     },
     "metadata": {
      "needs_background": "light"
     },
     "output_type": "display_data"
    }
   ],
   "source": [
    "plt.figure(figsize=[15,15])\n",
    "for i in range(2):\n",
    "    plt.subplot(2,2, i+1)\n",
    "   \n",
    "    if i == 0:  \n",
    "        #subplot with savings_status on x-axis\n",
    "        plt.xlabel('savings_status')\n",
    "        plt.ylabel('Count')\n",
    "        histogram1=df[\"personal_status\"].value_counts().index\n",
    "        plt.hist([df[(df[\"personal_status\"]==histogram1[0])][\"savings_status\"],df[(df[\"personal_status\"]==histogram1[1])][\"savings_status\"],df[(df[\"personal_status\"]==histogram1[2])][\"savings_status\"],df[(df[\"personal_status\"]==histogram1[3])][\"savings_status\"]],label=histogram1)\n",
    "\n",
    "\n",
    "        plt.title(\"savings_status and personal_status\")\n",
    "        plt.yticks(np.linspace(0,(df[(df[\"personal_status\"] == histogram1[0])])[\"savings_status\"].value_counts().values.max(),10))\n",
    "        plt.legend()\n",
    "\n",
    "\n",
    "    if i == 1:\n",
    "        #subplot with checking_status on x-axis\n",
    "        plt.xlabel('checking_status')\n",
    "        plt.ylabel('Count')\n",
    "        histogram2=df[\"personal_status\"].value_counts().index\n",
    "        plt.hist([df[(df[\"personal_status\"]==histogram2[0])][\"checking_status\"],df[(df[\"personal_status\"]==histogram2[1])][\"checking_status\"],df[(df[\"personal_status\"]==histogram2[2])][\"checking_status\"],df[(df[\"personal_status\"]==histogram2[3])][\"checking_status\"]],label=histogram2)\n",
    "\n",
    "        plt.title(\"checking_status and personal_status\")\n",
    "        plt.yticks(np.linspace(0,(df[(df[\"personal_status\"] == histogram2[0])])[\"checking_status\"].value_counts().values.max(),10))\n",
    "        plt.legend()\n",
    "        \n",
    "plt.subplots_adjust(wspace=.5)    \n",
    "plt.show()"
   ]
  },
  {
   "cell_type": "markdown",
   "id": "c90bbbd3",
   "metadata": {},
   "source": [
    "2.For people having credit_amount more than 4000, plot a bar graph which maps property_magnitude (x-axis) to the average customer age for that magnitude (y-axis)."
   ]
  },
  {
   "cell_type": "code",
   "execution_count": 14,
   "id": "d9092815",
   "metadata": {},
   "outputs": [
    {
     "data": {
      "image/png": "[encoded data removed]",
      "text/plain": [
       "<Figure size 576x576 with 1 Axes>"
      ]
     },
     "metadata": {
      "needs_background": "light"
     },
     "output_type": "display_data"
    }
   ],
   "source": [
    "plt.figure(figsize=[8,8])\n",
    "#property magnitude for people with credit > 4000\n",
    "people=(df[(df[\"credit_amount\"] > 4000)])[\"property_magnitude\"]\n",
    "#avg age for that property magnitude\n",
    "avg=df.groupby(people)[\"age\"].mean()\n",
    "x=avg.index\n",
    "y=avg.values\n",
    "plt.bar(x,y)\n",
    "plt.yticks((np.linspace(0,y.max(),10)))\n",
    "plt.xlabel('property_magnitude')\n",
    "plt.ylabel('Average Customer Age')\n",
    "plt.title(\"Average Customer Age for each Property Magnitude\")\n",
    "plt.show()"
   ]
  },
  {
   "cell_type": "markdown",
   "id": "d65703db",
   "metadata": {},
   "source": [
    "3.For people with a \"High\" savings_status and age above 40, use subplots to plot the following pie charts:\n",
    "Personal status\n",
    "Credit history\n",
    "Job"
   ]
  },
  {
   "cell_type": "code",
   "execution_count": 15,
   "id": "18fe8b5a",
   "metadata": {},
   "outputs": [
    {
     "data": {
      "image/png": "[encoded data removed]",
      "text/plain": [
       "<Figure size 720x720 with 3 Axes>"
      ]
     },
     "metadata": {},
     "output_type": "display_data"
    }
   ],
   "source": [
    "plt.figure(figsize=[10,10])\n",
    "\n",
    "\n",
    "for i in range(3):\n",
    "    plt.subplot(2,2, i+1)\n",
    "    if i == 0:\n",
    "        personal=(df[(df[\"savings_status\"] == 'High') & (df[\"age\"] > 40)])[\"personal_status\"]\n",
    "        #pie chart labels\n",
    "        labelarray1=[]\n",
    "        for i in personal.value_counts().index:\n",
    "            labelarray1.append(i)\n",
    "    \n",
    "        plt.pie(personal.value_counts(),labels=labelarray1,autopct='%.2f%%')\n",
    "        plt.title(\"Personal Status\")\n",
    "        \n",
    "    if i == 1:\n",
    "        credit=(df[(df[\"savings_status\"] == 'High') & (df[\"age\"] > 40)])[\"credit_history\"]\n",
    "        #pie chart labels\n",
    "        labelarray2=[]\n",
    "        for i in credit.value_counts().index:\n",
    "            labelarray2.append(i)\n",
    "    \n",
    "        plt.pie(credit.value_counts(),labels=labelarray2,autopct='%.2f%%')\n",
    "        plt.title(\"Credit History\")\n",
    "     \n",
    "    if i == 2:\n",
    "        job=(df[(df[\"savings_status\"] == 'High') & (df[\"age\"] > 40)])[\"job\"]\n",
    "        #pie chart labels\n",
    "        labelarray3=[]\n",
    "        for i in job.value_counts().index:\n",
    "            labelarray3.append(i)\n",
    "    \n",
    "        plt.pie(job.value_counts(),labels=labelarray3,autopct='%.2f%%')\n",
    "        plt.title(\"Job\")\n",
    "    \n",
    "plt.subplots_adjust(wspace=1)   \n",
    "plt.show()"
   ]
  }
 ],
 "metadata": {
  "kernelspec": {
   "display_name": "Python 3",
   "language": "python",
   "name": "python3"
  },
  "language_info": {
   "codemirror_mode": {
    "name": "ipython",
    "version": 3
   },
   "file_extension": ".py",
   "mimetype": "text/x-python",
   "name": "python",
   "nbconvert_exporter": "python",
   "pygments_lexer": "ipython3",
   "version": "3.8.8"
  }
 },
 "nbformat": 4,
 "nbformat_minor": 5
}
