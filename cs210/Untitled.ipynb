{
 "cells": [
  {
   "cell_type": "code",
   "execution_count": 19,
   "id": "3cf6fc6a",
   "metadata": {},
   "outputs": [],
   "source": [
    "import re\n",
    "import csv\n",
    "import json\n",
    "from pprint import pprint\n",
    "import numpy as np"
   ]
  },
  {
   "cell_type": "code",
   "execution_count": 9,
   "id": "78e7ae58",
   "metadata": {},
   "outputs": [
    {
     "name": "stdout",
     "output_type": "stream",
     "text": [
      "[[ 1. nan  4. nan]\n",
      " [ 1. nan  4.  5.]\n",
      " [ 1. nan nan  5.]\n",
      " [ 1. nan  4.  5.]\n",
      " [nan  3.  4.  5.]]\n",
      "[[False  True False  True]\n",
      " [False  True False False]\n",
      " [False  True  True False]\n",
      " [False  True False False]\n",
      " [ True False False False]]\n",
      "7\n",
      "[2, 1, 2, 1, 1]\n"
     ]
    }
   ],
   "source": [
    "# 2.1\n",
    "nparr = np.array([[1,np.nan,4,np.nan], [1,np.nan,4,5], [1,np.nan,np.nan,5], [1,np.nan,4,5], [np.nan,3,4,5]]) \n",
    "print(nparr)\n",
    "\n",
    "x = np.isnan(nparr)\n",
    "print(np.isnan(nparr))\n",
    "\n",
    "print(np.count_nonzero(x))\n",
    "\n",
    "result = [np.count_nonzero(row) for row in np.isnan(nparr)]\n",
    "print(result)\n"
   ]
  },
  {
   "cell_type": "code",
   "execution_count": 13,
   "id": "a74850b1",
   "metadata": {},
   "outputs": [
    {
     "name": "stdout",
     "output_type": "stream",
     "text": [
      "[2 1 2 1 1]\n"
     ]
    }
   ],
   "source": [
    "nparr = np.array([[1,np.nan,4,np.nan], [1,np.nan,4,5], [1,np.nan,np.nan,5], [1,np.nan,4,5], [np.nan,3,4,5]]) \n",
    "x = np.isnan(nparr)\n",
    "result = np.count_nonzero(x, axis=1)\n",
    "print(result)"
   ]
  },
  {
   "cell_type": "code",
   "execution_count": 36,
   "id": "0fef82ef",
   "metadata": {},
   "outputs": [
    {
     "name": "stdout",
     "output_type": "stream",
     "text": [
      "[[ 1  2  3  4  5  6  7  8  9 10 11 12 13 14 15 16 17 18 19 20 21 22 23 24\n",
      "  25 26 27 28 29 30 31 32 33]\n",
      " [34 35 36 37 38 39 40 41 42 43 44 45 46 47 48 49 50 51 52 53 54 55 56 57\n",
      "  58 59 60 61 62 63 64 65 66]\n",
      " [67 68 69 70 71 72 73 74 75 76 77 78 79 80 81 82 83 84 85 86 87 88 89 90\n",
      "  91 92 93 94 95 96 97 98 99]]\n"
     ]
    }
   ],
   "source": [
    "\n",
    "# 2.2\n",
    "arr = np.arange(1,100).reshape(3, 33)\n",
    "print(arr)\n",
    "\n",
    "result = np.where(arr % 2 != 0, arr ** 2, arr)\n"
   ]
  },
  {
   "cell_type": "code",
   "execution_count": 62,
   "id": "c6517585",
   "metadata": {},
   "outputs": [
    {
     "name": "stdout",
     "output_type": "stream",
     "text": [
      "[[ 4 81 15 92 32 54]\n",
      " [ 8 95 72 40 74 72]\n",
      " [61 62 19 82 85 43]\n",
      " [74 40 60 54 66 38]\n",
      " [ 7 88 50 31 40 89]]\n"
     ]
    }
   ],
   "source": [
    "# 2.3\n",
    "arr = np.random.randint(1,100, (5,6))\n",
    "print(arr)"
   ]
  },
  {
   "cell_type": "code",
   "execution_count": 63,
   "id": "daf10c3d",
   "metadata": {},
   "outputs": [
    {
     "name": "stdout",
     "output_type": "stream",
     "text": [
      "[[0 2 4 5 1 3]\n",
      " [0 3 2 5 4 1]\n",
      " [2 5 0 1 3 4]\n",
      " [5 1 3 2 4 0]\n",
      " [0 3 4 2 1 5]]\n",
      "[[ 4 15 32 54 81 92]\n",
      " [ 8 40 72 72 74 95]\n",
      " [19 43 61 62 82 85]\n",
      " [38 40 54 60 66 74]\n",
      " [ 7 31 40 50 88 89]]\n"
     ]
    }
   ],
   "source": [
    "r1 = np.argsort(arr)\n",
    "print(r1)\n",
    "print(np.sort(arr))"
   ]
  },
  {
   "cell_type": "code",
   "execution_count": 64,
   "id": "6116256c",
   "metadata": {},
   "outputs": [
    {
     "name": "stdout",
     "output_type": "stream",
     "text": [
      "0 2 5 1\n"
     ]
    }
   ],
   "source": [
    "numrow, numcol = arr.shape\n",
    "largest = np.argsort(arr)[numrow-1][-1]\n",
    "secondlargest = np.argsort(arr)[numrow-1][-2]\n",
    "\n",
    "smallest = np.argsort(arr)[0][0]\n",
    "secondsmallest = np.argsort(arr)[0][1]\n",
    "\n",
    "print(smallest, secondsmallest, largest, secondlargest)"
   ]
  },
  {
   "cell_type": "code",
   "execution_count": 68,
   "id": "9b8e6306",
   "metadata": {},
   "outputs": [
    {
     "name": "stdout",
     "output_type": "stream",
     "text": [
      "[[89 81 88 92 32 54]\n",
      " [ 8 95 72 40 74 72]\n",
      " [61 62 19 82 85 43]\n",
      " [74 40 60 54 66 38]\n",
      " [ 7 15 50 31 40  4]]\n"
     ]
    }
   ],
   "source": [
    "arr2 = arr.copy()\n",
    "temp = arr[0][smallest]\n",
    "arr2[0][smallest] = arr2[numrow-1][largest]\n",
    "arr2[numrow-1][largest] = temp\n",
    "\n",
    "temp = arr[0][secondsmallest]\n",
    "arr2[0][secondsmallest] = arr2[numrow-1][secondlargest]\n",
    "arr2[numrow-1][secondlargest] = temp\n",
    "\n",
    "print(arr2)"
   ]
  },
  {
   "cell_type": "code",
   "execution_count": 72,
   "id": "0e82314b",
   "metadata": {},
   "outputs": [
    {
     "name": "stdout",
     "output_type": "stream",
     "text": [
      "[[28 90 33 84 62 42]\n",
      " [29 91 64 79  7 76]\n",
      " [37 52 99 55 21 18]\n",
      " [45 12 43 84 52 77]\n",
      " [12 97 23 46 54 58]]\n",
      "[[97 90 58 84 62 42]\n",
      " [29 91 64 79  7 76]\n",
      " [37 52 99 55 21 18]\n",
      " [45 12 43 84 52 77]\n",
      " [12 28 23 46 54 33]]\n"
     ]
    }
   ],
   "source": [
    "nparr = np.random.randint(1,100, (5,6))\n",
    "print(nparr)\n",
    "\n",
    "# get them\n",
    "numrow, numcol = nparr.shape\n",
    "largest = np.argsort(nparr)[numrow-1][-1]\n",
    "secondlargest = np.argsort(nparr)[numrow-1][-2]\n",
    "\n",
    "smallest = np.argsort(nparr)[0][0]\n",
    "secondsmallest = np.argsort(nparr)[0][1]\n",
    "\n",
    "# change them\n",
    "temp = nparr[0][smallest]\n",
    "nparr[0][smallest] = nparr[numrow-1][largest]\n",
    "nparr[numrow-1][largest] = temp\n",
    "\n",
    "temp = nparr[0][secondsmallest]\n",
    "nparr[0][secondsmallest] = nparr[numrow-1][secondlargest]\n",
    "nparr[numrow-1][secondlargest] = temp\n",
    "\n",
    "print(nparr)"
   ]
  },
  {
   "cell_type": "code",
   "execution_count": 81,
   "id": "80b8412b",
   "metadata": {},
   "outputs": [
    {
     "name": "stdout",
     "output_type": "stream",
     "text": [
      "None\n"
     ]
    }
   ],
   "source": [
    "target = '#a?a b#  '\n",
    "pattern = r'\\s*(.)\\s*(.)\\s*(.)\\s*(\\2)\\s*(\\1)\\s*'\n",
    "result = re.match(pattern, target)\n",
    "print(result)"
   ]
  },
  {
   "cell_type": "code",
   "execution_count": 102,
   "id": "0f58cc7f",
   "metadata": {},
   "outputs": [
    {
     "name": "stdout",
     "output_type": "stream",
     "text": [
      "<re.Match object; span=(0, 7), match='1.23E15'>\n"
     ]
    }
   ],
   "source": [
    "target = \"431e20\"\n",
    "target = \"1.23E15\"\n",
    "pattern = r'(^\\d{1,}[eE][1-9]\\d*$)|(^\\d{1,}\\.\\d{1,}[eE][1-9]\\d*$)'\n",
    "pattern = r'(^\\d{1,}[eE][1-9]\\d*$)|(^\\d{1,}\\.\\d{1,}[eE][1-9]\\d*$)'\n",
    "print(re.match(pattern, target))"
   ]
  },
  {
   "cell_type": "code",
   "execution_count": null,
   "id": "bf82e2d3",
   "metadata": {},
   "outputs": [],
   "source": []
  },
  {
   "cell_type": "code",
   "execution_count": 113,
   "id": "b5bf28f9",
   "metadata": {},
   "outputs": [
    {
     "name": "stdout",
     "output_type": "stream",
     "text": [
      "None\n"
     ]
    }
   ],
   "source": [
    "target = \"c2f_con19Tsdfv_\"\n",
    "target = \"cf#\"\n",
    "pattern = r'^[a-zA-Z]\\w*$'\n",
    "print(re.match(pattern, target))"
   ]
  },
  {
   "cell_type": "code",
   "execution_count": 135,
   "id": "7e665f7d",
   "metadata": {},
   "outputs": [
    {
     "name": "stdout",
     "output_type": "stream",
     "text": [
      "[('01', '*', '278', '', '', '', '', '', '', '', '', '', '', '', '')]\n",
      "[]\n",
      "[('', '', '', '', '', '', '', '', '', '', '', '', '.2', '/', '5.')]\n",
      "[('', '', '', '', '', '', '0', '-', '23.', '', '', '', '', '', '')]\n"
     ]
    }
   ],
   "source": [
    "# 1.2\n",
    "target = '0-2.3'\n",
    "target = ' 01*278  '\n",
    "# pattern needs to work with ints as operands\n",
    "# first points\n",
    "# second points\n",
    "# middle points\n",
    "pattern1 = r'^\\s*(\\d{1,})\\s*([\\+\\-\\*\\/])\\s*(\\d{1,})\\s*$'\n",
    "pattern2 = r'^\\s*(.?\\d{1,})\\s*([\\+\\-\\*\\/])\\s*(\\d{1,})\\s*$'\n",
    "pattern3 = r'^\\s*(\\d{1,}.?\\d*)\\s*([\\+\\-\\*\\/])\\s*(\\d{1,}.?\\d*)\\s*$'\n",
    "pattern4 = r'^\\s*(.?\\d{1,})\\s*([\\+\\-\\*\\/])\\s*(.?\\d{1,})\\s*$'\n",
    "pattern5 = r'^\\s*(.?\\d{1,})\\s*([\\+\\-\\*\\/])\\s*(\\d{1,}.?\\d*)\\s*$'\n",
    "pattern = pattern1 + \"|\" + pattern2 + \"|\" + pattern3 + \"|\" + pattern4 + \"|\" + pattern5\n",
    "\n",
    "targets = [' 01*278  ',\n",
    "' 1.23 f+16',\n",
    "'.2/5.',\n",
    "'0-23.']\n",
    "for target in targets:\n",
    "    print(re.findall(pattern, target))"
   ]
  },
  {
   "cell_type": "code",
   "execution_count": null,
   "id": "3dea7f06",
   "metadata": {},
   "outputs": [],
   "source": []
  },
  {
   "cell_type": "code",
   "execution_count": null,
   "id": "ca929c9e",
   "metadata": {},
   "outputs": [],
   "source": []
  },
  {
   "cell_type": "code",
   "execution_count": 158,
   "id": "0235213c",
   "metadata": {},
   "outputs": [],
   "source": [
    "a = np.random.randint(0,100, (6,4))"
   ]
  },
  {
   "cell_type": "code",
   "execution_count": 159,
   "id": "3e1eb844",
   "metadata": {},
   "outputs": [
    {
     "name": "stdout",
     "output_type": "stream",
     "text": [
      "[[80  7  8 70]\n",
      " [11 49 20 62]\n",
      " [54 50 12 25]\n",
      " [98 91 27 68]\n",
      " [35 68 97  3]\n",
      " [36 68 31 91]]\n"
     ]
    }
   ],
   "source": [
    "print(a)"
   ]
  },
  {
   "cell_type": "code",
   "execution_count": 160,
   "id": "3abc807e",
   "metadata": {},
   "outputs": [
    {
     "name": "stdout",
     "output_type": "stream",
     "text": [
      "[[ True False False  True]\n",
      " [False  True False  True]\n",
      " [ True  True False False]\n",
      " [ True  True False  True]\n",
      " [False  True  True False]\n",
      " [False  True False  True]]\n",
      "[False False False False]\n"
     ]
    }
   ],
   "source": [
    "arr = a.mean(axis=0)\n",
    "means = arr.mean()\n",
    "a = a > means\n",
    "print(a)\n",
    "\n",
    "myarr = a.all(axis=0)\n",
    "print(myarr)"
   ]
  },
  {
   "cell_type": "code",
   "execution_count": 161,
   "id": "d7f91759",
   "metadata": {},
   "outputs": [
    {
     "name": "stdout",
     "output_type": "stream",
     "text": [
      "12.5\n"
     ]
    }
   ],
   "source": [
    "print(filter)"
   ]
  },
  {
   "cell_type": "code",
   "execution_count": null,
   "id": "35c11041",
   "metadata": {},
   "outputs": [],
   "source": []
  },
  {
   "cell_type": "code",
   "execution_count": null,
   "id": "3921d673",
   "metadata": {},
   "outputs": [],
   "source": []
  },
  {
   "cell_type": "code",
   "execution_count": null,
   "id": "456764b0",
   "metadata": {},
   "outputs": [],
   "source": []
  },
  {
   "cell_type": "code",
   "execution_count": null,
   "id": "06856702",
   "metadata": {},
   "outputs": [],
   "source": []
  },
  {
   "cell_type": "code",
   "execution_count": null,
   "id": "8c301bff",
   "metadata": {},
   "outputs": [],
   "source": []
  },
  {
   "cell_type": "code",
   "execution_count": null,
   "id": "1998ab63",
   "metadata": {},
   "outputs": [],
   "source": []
  },
  {
   "cell_type": "code",
   "execution_count": null,
   "id": "c34fbe78",
   "metadata": {},
   "outputs": [],
   "source": []
  },
  {
   "cell_type": "code",
   "execution_count": null,
   "id": "43380c92",
   "metadata": {},
   "outputs": [],
   "source": []
  },
  {
   "cell_type": "code",
   "execution_count": null,
   "id": "72985627",
   "metadata": {},
   "outputs": [],
   "source": []
  },
  {
   "cell_type": "code",
   "execution_count": null,
   "id": "b83d5e8c",
   "metadata": {},
   "outputs": [],
   "source": []
  },
  {
   "cell_type": "code",
   "execution_count": null,
   "id": "75f4d2e1",
   "metadata": {},
   "outputs": [],
   "source": []
  }
 ],
 "metadata": {
  "kernelspec": {
   "display_name": "Python 3",
   "language": "python",
   "name": "python3"
  },
  "language_info": {
   "codemirror_mode": {
    "name": "ipython",
    "version": 3
   },
   "file_extension": ".py",
   "mimetype": "text/x-python",
   "name": "python",
   "nbconvert_exporter": "python",
   "pygments_lexer": "ipython3",
   "version": "3.8.8"
  }
 },
 "nbformat": 4,
 "nbformat_minor": 5
}
